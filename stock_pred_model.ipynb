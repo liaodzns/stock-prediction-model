{
  "cells": [
    {
      "cell_type": "code",
      "execution_count": 228,
      "metadata": {
        "collapsed": true,
        "id": "gg_4KN5yESeB"
      },
      "outputs": [],
      "source": [
        "import yfinance as yf\n",
        "import tensorflow as tf\n",
        "import pandas as pd\n",
        "import ta\n",
        "from sklearn.model_selection import train_test_split\n",
        "from sklearn.preprocessing import StandardScaler, MinMaxScaler\n",
        "from sklearn.ensemble import RandomForestRegressor\n",
        "from sklearn.metrics import mean_squared_error, r2_score\n",
        "import matplotlib.pyplot as plt\n",
        "import seaborn as sns\n",
        "import numpy as np\n",
        "from keras._tf_keras.keras.models import Sequential\n",
        "from keras._tf_keras.keras.layers import LSTM, Dense, Dropout\n",
        "from keras._tf_keras.keras.regularizers import L2"
      ]
    },
    {
      "cell_type": "code",
      "execution_count": 229,
      "metadata": {
        "id": "QNrc3hhuEA0r"
      },
      "outputs": [],
      "source": [
        "stock_chosen = yf.Ticker(\"AAPL\")\n",
        "\n",
        "stock_data = stock_chosen.history(start='2010-01-01', end='2024-09-01', interval=\"1d\")"
      ]
    },
    {
      "cell_type": "markdown",
      "metadata": {
        "id": "p9ZumEqdFs1e"
      },
      "source": []
    },
    {
      "cell_type": "code",
      "execution_count": 230,
      "metadata": {
        "id": "OJA41E6LFrXN"
      },
      "outputs": [],
      "source": [
        "stock_data['MA_20'] = ta.trend.sma_indicator(stock_data['Close'], window=20)\n",
        "stock_data['MA_50'] = ta.trend.sma_indicator(stock_data['Close'], window=50)"
      ]
    },
    {
      "cell_type": "code",
      "execution_count": 231,
      "metadata": {
        "id": "cAhuqa2FF0Gl"
      },
      "outputs": [],
      "source": [
        "stock_data['RSI'] = ta.momentum.rsi(stock_data['Close'], window=14)"
      ]
    },
    {
      "cell_type": "code",
      "execution_count": 232,
      "metadata": {
        "id": "YctFMJUAF3AK"
      },
      "outputs": [],
      "source": [
        "macd = ta.trend.MACD(stock_data['Close'])\n",
        "stock_data['MACD'] = macd.macd()\n",
        "stock_data['MACD_Signal'] = macd.macd_signal()\n",
        "stock_data['MACD_Diff'] = macd.macd_diff()"
      ]
    },
    {
      "cell_type": "code",
      "execution_count": 233,
      "metadata": {
        "id": "0qYo3yMnF4F8"
      },
      "outputs": [],
      "source": [
        "bollinger = ta.volatility.BollingerBands(stock_data['Close'], window=20, window_dev=2)\n",
        "stock_data['Bollinger_High'] = bollinger.bollinger_hband()\n",
        "stock_data['Bollinger_Low'] = bollinger.bollinger_lband()"
      ]
    },
    {
      "cell_type": "code",
      "execution_count": 234,
      "metadata": {
        "id": "rdmbUCFxF6t0"
      },
      "outputs": [],
      "source": [
        "stock_data.dropna(inplace=True)"
      ]
    },
    {
      "cell_type": "code",
      "execution_count": 235,
      "metadata": {
        "id": "sxkbOEvqF6r7"
      },
      "outputs": [],
      "source": [
        "sp500 = yf.download('^GSPC', start='2010-01-01', end='2024-09-01', progress=False)\n",
        "sp500 = sp500['Close'].rename('S&P500_Close')"
      ]
    },
    {
      "cell_type": "code",
      "execution_count": 236,
      "metadata": {
        "id": "bY4R-xAkF6nd"
      },
      "outputs": [],
      "source": [
        "stock_data.index = stock_data.index.tz_localize(None)\n",
        "sp500.index = sp500.index.tz_localize(None)"
      ]
    },
    {
      "cell_type": "code",
      "execution_count": 238,
      "metadata": {
        "id": "ZQCT1Ra9F6pq"
      },
      "outputs": [],
      "source": [
        "stock_data = stock_data.join(sp500, how='inner')\n"
      ]
    },
    {
      "cell_type": "code",
      "execution_count": 239,
      "metadata": {
        "colab": {
          "base_uri": "https://localhost:8080/"
        },
        "id": "qQGO4KqvGy_m",
        "outputId": "27643966-1400-4709-b0ea-f5168d550b2c"
      },
      "outputs": [],
      "source": [
        "print(stock_data.columns)\n"
      ]
    },
    {
      "cell_type": "markdown",
      "metadata": {},
      "source": [
        "After trial and error, I've found that the features I want to test against are better when kept simple."
      ]
    },
    {
      "cell_type": "code",
      "execution_count": 240,
      "metadata": {
        "id": "pyHYuhk-F6Vo"
      },
      "outputs": [],
      "source": [
        "# relevant features\n",
        "features = ['Open', 'Close', 'Volume', 'S&P500_Close']\n",
        "stock_data = stock_data[features].dropna()\n"
      ]
    },
    {
      "cell_type": "code",
      "execution_count": 241,
      "metadata": {
        "id": "PmXbmK-9GiTW"
      },
      "outputs": [],
      "source": [
        "stock_data['Target'] = stock_data['Close'].shift(-1)\n",
        "stock_data.dropna(inplace=True)"
      ]
    },
    {
      "cell_type": "code",
      "execution_count": 242,
      "metadata": {
        "id": "axO8LyT3GiPd"
      },
      "outputs": [],
      "source": [
        "\n",
        "X = stock_data[features]\n",
        "y = stock_data['Target']"
      ]
    },
    {
      "cell_type": "code",
      "execution_count": 243,
      "metadata": {
        "id": "MH2UmsW5GiM8"
      },
      "outputs": [],
      "source": [
        "X_train_full, X_test, y_train_full, y_test = train_test_split(\n",
        "    X, y, test_size=0.15, shuffle=False)  # Shuffle=False for time series\n"
      ]
    },
    {
      "cell_type": "code",
      "execution_count": 244,
      "metadata": {
        "id": "du5hPwPSRSx1"
      },
      "outputs": [],
      "source": [
        "X_train, X_val, y_train, y_val = train_test_split(\n",
        "    X_train_full, y_train_full, test_size=0.1765, shuffle=False)"
      ]
    },
    {
      "cell_type": "markdown",
      "metadata": {},
      "source": [
        "Implement a MinMaxScaler to ensure that all features contribute equally to the learning process"
      ]
    },
    {
      "cell_type": "code",
      "execution_count": 245,
      "metadata": {
        "id": "kSe2EXCzGiFT"
      },
      "outputs": [],
      "source": [
        "scaler = MinMaxScaler(feature_range=(0, 1))"
      ]
    },
    {
      "cell_type": "code",
      "execution_count": 246,
      "metadata": {
        "id": "RqLYtwpTZSdO"
      },
      "outputs": [],
      "source": [
        "X_train_scaled = scaler.fit_transform(X_train)\n",
        "X_val_scaled = scaler.transform(X_val)\n",
        "X_test_scaled = scaler.transform(X_test)"
      ]
    },
    {
      "cell_type": "markdown",
      "metadata": {
        "id": "-aPHOgJ8HYXc"
      },
      "source": [
        "LSTM Neural Network:"
      ]
    },
    {
      "cell_type": "code",
      "execution_count": 247,
      "metadata": {
        "id": "pZImgvpVcIvv"
      },
      "outputs": [],
      "source": [
        "window_size = 120\n",
        "\n",
        "def create_sequences(X, y, window_size):\n",
        "    Xs, ys = [], []\n",
        "    for i in range(len(X) - window_size):\n",
        "        Xs.append(X[i:i+window_size])\n",
        "        ys.append(y[i+window_size])\n",
        "    return np.array(Xs), np.array(ys)"
      ]
    },
    {
      "cell_type": "code",
      "execution_count": 248,
      "metadata": {
        "id": "ttsTQ6QJYp3n"
      },
      "outputs": [],
      "source": [
        "target_scaler = MinMaxScaler(feature_range=(0, 1))\n",
        "y_train_scaled = target_scaler.fit_transform(y_train.values.reshape(-1, 1))  # Reshape required for scaling\n",
        "y_val_scaled = target_scaler.transform(y_val.values.reshape(-1, 1))  # Transform validation target\n",
        "y_test_scaled = target_scaler.transform(y_test.values.reshape(-1, 1))  # Transform test target\n"
      ]
    },
    {
      "cell_type": "code",
      "execution_count": 249,
      "metadata": {
        "id": "iL8ucFvpcIrN"
      },
      "outputs": [],
      "source": [
        "X_val_lstm, y_val_lstm = create_sequences(X_val_scaled, y_val.values, window_size)\n",
        "X_train_lstm, y_train_lstm = create_sequences(X_train_scaled, y_train.values, window_size)\n",
        "X_test_lstm, y_test_lstm = create_sequences(X_test_scaled, y_test.values, window_size)"
      ]
    },
    {
      "cell_type": "code",
      "execution_count": 250,
      "metadata": {
        "colab": {
          "base_uri": "https://localhost:8080/"
        },
        "id": "jS49dikecIod",
        "outputId": "a21c47f0-875a-4905-a447-8265d39f861c"
      },
      "outputs": [],
      "source": [
        "model = Sequential()\n",
        "model.add(LSTM(100, return_sequences=True, kernel_regularizer=L2(0.001), input_shape=(X_train_lstm.shape[1], X_train_lstm.shape[2])))\n",
        "model.add(Dropout(0.3))\n",
        "model.add(LSTM(100, return_sequences=False, kernel_regularizer=L2(0.001)))\n",
        "model.add(Dropout(0.3))\n",
        "model.add(Dense(50, kernel_regularizer=L2(0.001)))\n",
        "model.add(Dense(1))"
      ]
    },
    {
      "cell_type": "code",
      "execution_count": 251,
      "metadata": {
        "id": "CvIRJ5fYcIdA"
      },
      "outputs": [],
      "source": [
        "model.compile(optimizer='adam', loss='mean_squared_error')"
      ]
    },
    {
      "cell_type": "code",
      "execution_count": 252,
      "metadata": {
        "colab": {
          "base_uri": "https://localhost:8080/"
        },
        "id": "2yAIXbwGcSed",
        "outputId": "ee5df3f3-d45b-43af-ac59-39fcc532dc3d"
      },
      "outputs": [],
      "source": [
        "history = model.fit(\n",
        "    X_train_lstm, y_train_lstm,\n",
        "    epochs=50,\n",
        "    batch_size=32,\n",
        "    validation_stock_data=(X_val_lstm, y_val_lstm),  # Use validation set\n",
        "    verbose=1\n",
        ")"
      ]
    },
    {
      "cell_type": "code",
      "execution_count": 253,
      "metadata": {
        "colab": {
          "base_uri": "https://localhost:8080/"
        },
        "id": "kcwKNYcZcVWV",
        "outputId": "4170fecd-5d8e-4bdd-944f-c01a22456b6a"
      },
      "outputs": [],
      "source": [
        "# predict\n",
        "y_pred_lstm = model.predict(X_test_lstm)\n",
        "y_pred_lstm = y_pred_lstm.flatten()\n",
        "\n",
        "# evaluate error\n",
        "mse_lstm = mean_squared_error(y_test_lstm, y_pred_lstm)\n",
        "rmse = np.sqrt(mse_lstm)\n",
        "print(f\"Root Mean Squared Error (RMSE): {rmse}\")\n",
        "\n",
        "average_actual_price = np.mean(y_test_lstm)\n",
        "\n",
        "rmse_percentage_error = (rmse / average_actual_price) * 100\n",
        "print(f\"RMSE Percentage Error: {rmse_percentage_error:.2f}%\")\n"
      ]
    },
    {
      "cell_type": "code",
      "execution_count": 254,
      "metadata": {
        "colab": {
          "base_uri": "https://localhost:8080/",
          "height": 641
        },
        "id": "9gE1QhUVHvnj",
        "outputId": "d20f085b-3d6e-4ce9-e74a-a57f6cb30dfa"
      },
      "outputs": [],
      "source": [
        "\n",
        "plt.figure(figsize=(14, 7))\n",
        "\n",
        "train_size = len(y_train_lstm)\n",
        "test_size = len(y_test_lstm)\n",
        "\n",
        "plt.plot(range(train_size), y_train_lstm, label='Actual Training Prices', color='blue')\n",
        "plt.plot(range(train_size, train_size + test_size), y_test_lstm, label='Actual Test Prices', color='cyan')\n",
        "plt.plot(range(train_size, train_size + test_size), y_pred_lstm, label='Predicted Test Prices', color='green')\n",
        "\n",
        "plt.title('LSTM: Actual vs Predicted Prices (Train and Predict)')\n",
        "plt.xlabel('Time')\n",
        "plt.ylabel('Price')\n",
        "plt.legend()\n",
        "\n",
        "plt.show()"
      ]
    }
  ],
  "metadata": {
    "colab": {
      "provenance": []
    },
    "kernelspec": {
      "display_name": "Python 3",
      "name": "python3"
    },
    "language_info": {
      "name": "python"
    }
  },
  "nbformat": 4,
  "nbformat_minor": 0
}
